{
  "nbformat": 4,
  "nbformat_minor": 0,
  "metadata": {
    "colab": {
      "name": "EDA on IOT dataset.ipynb",
      "provenance": []
    },
    "kernelspec": {
      "display_name": "Python 3",
      "language": "python",
      "name": "python3"
    },
    "language_info": {
      "codemirror_mode": {
        "name": "ipython",
        "version": 3
      },
      "file_extension": ".py",
      "mimetype": "text/x-python",
      "name": "python",
      "nbconvert_exporter": "python",
      "pygments_lexer": "ipython3",
      "version": "3.6.5"
    }
  },
  "cells": [
    {
      "cell_type": "markdown",
      "metadata": {
        "id": "UIyIGzKGOQRI"
      },
      "source": [
        "Dataset Resource : https://www.kaggle.com/atulanandjha/temperature-readings-iot-devices"
      ]
    },
    {
      "cell_type": "markdown",
      "metadata": {
        "id": "SjwxgBmFrulB"
      },
      "source": [
        "Task : \r\n",
        "\r\n",
        "1.Variance of temprature inside and outside room?\r\n",
        "\r\n",
        "2.How inside temprature related to outside temprature"
      ]
    },
    {
      "cell_type": "markdown",
      "metadata": {
        "id": "UncrFwN3OQRO"
      },
      "source": [
        "##### There are 5 columns are present in our dataset. that's means,we are having 5-dimensional spaces:\n",
        "\n",
        "\n",
        "\n",
        "1. id : Unique id for each reading\n",
        "2. room_id/ : room id in which device was installed(inside/and or outside)\n",
        "3. note_data : date and time of reading\n",
        "4. temp : temprature readings\n",
        "5. out/In: whether reading was taken from device installed inside or outside of Room"
      ]
    },
    {
      "cell_type": "markdown",
      "metadata": {
        "id": "6sSe-terOQRQ"
      },
      "source": [
        "### Let's import the library"
      ]
    },
    {
      "cell_type": "code",
      "metadata": {
        "id": "1D_qDIWEOQRR"
      },
      "source": [
        "import pandas as pd\n",
        "import numpy as np\n",
        "import seaborn as sns\n",
        "import matplotlib.pyplot as plt\n"
      ],
      "execution_count": 1,
      "outputs": []
    },
    {
      "cell_type": "code",
      "metadata": {
        "colab": {
          "resources": {
            "http://localhost:8080/nbextensions/google.colab/files.js": {
              "data": "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",
              "ok": true,
              "headers": [
                [
                  "content-type",
                  "application/javascript"
                ]
              ],
              "status": 200,
              "status_text": ""
            }
          },
          "base_uri": "https://localhost:8080/",
          "height": 74
        },
        "id": "baYRAm9UOgal",
        "outputId": "c8f21429-e41a-475a-8906-166279cf723d"
      },
      "source": [
        "from google.colab import files\r\n",
        "uploaded = files.upload()"
      ],
      "execution_count": 29,
      "outputs": [
        {
          "output_type": "display_data",
          "data": {
            "text/html": [
              "\n",
              "     <input type=\"file\" id=\"files-8fcbfaeb-d566-4314-bc11-3d85c2882188\" name=\"files[]\" multiple disabled\n",
              "        style=\"border:none\" />\n",
              "     <output id=\"result-8fcbfaeb-d566-4314-bc11-3d85c2882188\">\n",
              "      Upload widget is only available when the cell has been executed in the\n",
              "      current browser session. Please rerun this cell to enable.\n",
              "      </output>\n",
              "      <script src=\"/nbextensions/google.colab/files.js\"></script> "
            ],
            "text/plain": [
              "<IPython.core.display.HTML object>"
            ]
          },
          "metadata": {
            "tags": []
          }
        },
        {
          "output_type": "stream",
          "text": [
            "Saving IOT_filter_data.csv to IOT_filter_data (1).csv\n"
          ],
          "name": "stdout"
        }
      ]
    },
    {
      "cell_type": "markdown",
      "metadata": {
        "id": "tispQ0dYOQRT"
      },
      "source": [
        "#### We read the IOT dataset"
      ]
    },
    {
      "cell_type": "code",
      "metadata": {
        "id": "JX9R7CdKOQRU"
      },
      "source": [
        "data = pd.read_csv(\"IOT_filter_data.csv\")"
      ],
      "execution_count": 30,
      "outputs": []
    },
    {
      "cell_type": "markdown",
      "metadata": {
        "id": "HBQIAkXVOQRV"
      },
      "source": [
        "#### By default, we get top 5 rows"
      ]
    },
    {
      "cell_type": "code",
      "metadata": {
        "colab": {
          "base_uri": "https://localhost:8080/",
          "height": 195
        },
        "id": "v_KpMay0OQRW",
        "outputId": "86d9666c-acbb-4a6d-db5a-7307d221dc85"
      },
      "source": [
        "data.head()"
      ],
      "execution_count": 31,
      "outputs": [
        {
          "output_type": "execute_result",
          "data": {
            "text/html": [
              "<div>\n",
              "<style scoped>\n",
              "    .dataframe tbody tr th:only-of-type {\n",
              "        vertical-align: middle;\n",
              "    }\n",
              "\n",
              "    .dataframe tbody tr th {\n",
              "        vertical-align: top;\n",
              "    }\n",
              "\n",
              "    .dataframe thead th {\n",
              "        text-align: right;\n",
              "    }\n",
              "</style>\n",
              "<table border=\"1\" class=\"dataframe\">\n",
              "  <thead>\n",
              "    <tr style=\"text-align: right;\">\n",
              "      <th></th>\n",
              "      <th>id</th>\n",
              "      <th>room_id/id</th>\n",
              "      <th>noted_date</th>\n",
              "      <th>temp</th>\n",
              "      <th>out/in</th>\n",
              "    </tr>\n",
              "  </thead>\n",
              "  <tbody>\n",
              "    <tr>\n",
              "      <th>0</th>\n",
              "      <td>__export__.temp_log_196134_bd201015</td>\n",
              "      <td>Room Admin</td>\n",
              "      <td>12/8/2018 9:30</td>\n",
              "      <td>29</td>\n",
              "      <td>In</td>\n",
              "    </tr>\n",
              "    <tr>\n",
              "      <th>1</th>\n",
              "      <td>__export__.temp_log_196131_7bca51bc</td>\n",
              "      <td>Room Admin</td>\n",
              "      <td>12/8/2018 9:30</td>\n",
              "      <td>29</td>\n",
              "      <td>In</td>\n",
              "    </tr>\n",
              "    <tr>\n",
              "      <th>2</th>\n",
              "      <td>__export__.temp_log_196127_522915e3</td>\n",
              "      <td>Room Admin</td>\n",
              "      <td>12/8/2018 9:29</td>\n",
              "      <td>41</td>\n",
              "      <td>Out</td>\n",
              "    </tr>\n",
              "    <tr>\n",
              "      <th>3</th>\n",
              "      <td>__export__.temp_log_196128_be0919cf</td>\n",
              "      <td>Room Admin</td>\n",
              "      <td>12/8/2018 9:29</td>\n",
              "      <td>41</td>\n",
              "      <td>Out</td>\n",
              "    </tr>\n",
              "    <tr>\n",
              "      <th>4</th>\n",
              "      <td>__export__.temp_log_196126_d30b72fb</td>\n",
              "      <td>Room Admin</td>\n",
              "      <td>12/8/2018 9:29</td>\n",
              "      <td>31</td>\n",
              "      <td>In</td>\n",
              "    </tr>\n",
              "  </tbody>\n",
              "</table>\n",
              "</div>"
            ],
            "text/plain": [
              "                                    id  room_id/id      noted_date  temp out/in\n",
              "0  __export__.temp_log_196134_bd201015  Room Admin  12/8/2018 9:30    29     In\n",
              "1  __export__.temp_log_196131_7bca51bc  Room Admin  12/8/2018 9:30    29     In\n",
              "2  __export__.temp_log_196127_522915e3  Room Admin  12/8/2018 9:29    41    Out\n",
              "3  __export__.temp_log_196128_be0919cf  Room Admin  12/8/2018 9:29    41    Out\n",
              "4  __export__.temp_log_196126_d30b72fb  Room Admin  12/8/2018 9:29    31     In"
            ]
          },
          "metadata": {
            "tags": []
          },
          "execution_count": 31
        }
      ]
    },
    {
      "cell_type": "markdown",
      "metadata": {
        "id": "mrhkiDwxOQRX"
      },
      "source": [
        "#### Using shape, let's get shape of dataset"
      ]
    },
    {
      "cell_type": "code",
      "metadata": {
        "colab": {
          "base_uri": "https://localhost:8080/"
        },
        "id": "m0Rb91UgOQRY",
        "outputId": "19e701dd-974a-4465-dec5-65e73ee52066"
      },
      "source": [
        "data.shape"
      ],
      "execution_count": 32,
      "outputs": [
        {
          "output_type": "execute_result",
          "data": {
            "text/plain": [
              "(6999, 5)"
            ]
          },
          "metadata": {
            "tags": []
          },
          "execution_count": 32
        }
      ]
    },
    {
      "cell_type": "markdown",
      "metadata": {
        "id": "7srsKnTPOQRZ"
      },
      "source": [
        "Observation : There are 6999 rows and 5 columns"
      ]
    },
    {
      "cell_type": "code",
      "metadata": {
        "colab": {
          "base_uri": "https://localhost:8080/"
        },
        "id": "6zJTr3bZOQRa",
        "outputId": "c1e812da-b8b5-4655-dfb2-05c87f6d8b9c"
      },
      "source": [
        "data.columns"
      ],
      "execution_count": 33,
      "outputs": [
        {
          "output_type": "execute_result",
          "data": {
            "text/plain": [
              "Index(['id', 'room_id/id', 'noted_date', 'temp', 'out/in'], dtype='object')"
            ]
          },
          "metadata": {
            "tags": []
          },
          "execution_count": 33
        }
      ]
    },
    {
      "cell_type": "markdown",
      "metadata": {
        "id": "OU81_ET6OQRb"
      },
      "source": [
        "Observation : We got number of columns which are existing in DataFrame"
      ]
    },
    {
      "cell_type": "code",
      "metadata": {
        "colab": {
          "base_uri": "https://localhost:8080/"
        },
        "id": "MREDcNfOOQRc",
        "outputId": "dc46feba-87ac-4d8c-b2a8-aac07510c852"
      },
      "source": [
        "data['out/in'].value_counts()"
      ],
      "execution_count": 34,
      "outputs": [
        {
          "output_type": "execute_result",
          "data": {
            "text/plain": [
              "Out    4531\n",
              "In     2468\n",
              "Name: out/in, dtype: int64"
            ]
          },
          "metadata": {
            "tags": []
          },
          "execution_count": 34
        }
      ]
    },
    {
      "cell_type": "markdown",
      "metadata": {
        "id": "Tu-1JGGyOQRd"
      },
      "source": [
        "Observation : temprature reading was taken by installed device inside room = 4531 and outside room = 2468"
      ]
    },
    {
      "cell_type": "code",
      "metadata": {
        "colab": {
          "base_uri": "https://localhost:8080/"
        },
        "id": "Tw-5eSV_1W_y",
        "outputId": "9952f619-1879-4f76-9caf-9fb33fa2031b"
      },
      "source": [
        "print(\"Unique values in every column \\n\"+'-'*25)\r\n",
        "for i in data.columns:\r\n",
        "  print(\"\\t\"+i+\"=\",len(set(data[i])))"
      ],
      "execution_count": 35,
      "outputs": [
        {
          "output_type": "stream",
          "text": [
            "Unique values in every column \n",
            "-------------------------\n",
            "\tid= 6998\n",
            "\troom_id/id= 1\n",
            "\tnoted_date= 3307\n",
            "\ttemp= 23\n",
            "\tout/in= 2\n"
          ],
          "name": "stdout"
        }
      ]
    },
    {
      "cell_type": "markdown",
      "metadata": {
        "id": "WsBcRLfn2e1K"
      },
      "source": [
        "Observation : We got unique value for every column"
      ]
    },
    {
      "cell_type": "code",
      "metadata": {
        "colab": {
          "base_uri": "https://localhost:8080/"
        },
        "id": "5r1_kLiG2rqj",
        "outputId": "2aee1a26-41f6-4ac3-b363-c4a2e22e2ee6"
      },
      "source": [
        "data.info()"
      ],
      "execution_count": 36,
      "outputs": [
        {
          "output_type": "stream",
          "text": [
            "<class 'pandas.core.frame.DataFrame'>\n",
            "RangeIndex: 6999 entries, 0 to 6998\n",
            "Data columns (total 5 columns):\n",
            " #   Column      Non-Null Count  Dtype \n",
            "---  ------      --------------  ----- \n",
            " 0   id          6999 non-null   object\n",
            " 1   room_id/id  6999 non-null   object\n",
            " 2   noted_date  6999 non-null   object\n",
            " 3   temp        6999 non-null   int64 \n",
            " 4   out/in      6999 non-null   object\n",
            "dtypes: int64(1), object(4)\n",
            "memory usage: 273.5+ KB\n"
          ],
          "name": "stdout"
        }
      ]
    },
    {
      "cell_type": "code",
      "metadata": {
        "colab": {
          "base_uri": "https://localhost:8080/",
          "height": 284
        },
        "id": "q70rtOCl2ynk",
        "outputId": "323f4474-b6ef-42a1-bcfa-28fb943e54a6"
      },
      "source": [
        "data.describe()"
      ],
      "execution_count": 37,
      "outputs": [
        {
          "output_type": "execute_result",
          "data": {
            "text/html": [
              "<div>\n",
              "<style scoped>\n",
              "    .dataframe tbody tr th:only-of-type {\n",
              "        vertical-align: middle;\n",
              "    }\n",
              "\n",
              "    .dataframe tbody tr th {\n",
              "        vertical-align: top;\n",
              "    }\n",
              "\n",
              "    .dataframe thead th {\n",
              "        text-align: right;\n",
              "    }\n",
              "</style>\n",
              "<table border=\"1\" class=\"dataframe\">\n",
              "  <thead>\n",
              "    <tr style=\"text-align: right;\">\n",
              "      <th></th>\n",
              "      <th>temp</th>\n",
              "    </tr>\n",
              "  </thead>\n",
              "  <tbody>\n",
              "    <tr>\n",
              "      <th>count</th>\n",
              "      <td>6999.000000</td>\n",
              "    </tr>\n",
              "    <tr>\n",
              "      <th>mean</th>\n",
              "      <td>34.150450</td>\n",
              "    </tr>\n",
              "    <tr>\n",
              "      <th>std</th>\n",
              "      <td>4.828534</td>\n",
              "    </tr>\n",
              "    <tr>\n",
              "      <th>min</th>\n",
              "      <td>21.000000</td>\n",
              "    </tr>\n",
              "    <tr>\n",
              "      <th>25%</th>\n",
              "      <td>29.000000</td>\n",
              "    </tr>\n",
              "    <tr>\n",
              "      <th>50%</th>\n",
              "      <td>36.000000</td>\n",
              "    </tr>\n",
              "    <tr>\n",
              "      <th>75%</th>\n",
              "      <td>38.000000</td>\n",
              "    </tr>\n",
              "    <tr>\n",
              "      <th>max</th>\n",
              "      <td>43.000000</td>\n",
              "    </tr>\n",
              "  </tbody>\n",
              "</table>\n",
              "</div>"
            ],
            "text/plain": [
              "              temp\n",
              "count  6999.000000\n",
              "mean     34.150450\n",
              "std       4.828534\n",
              "min      21.000000\n",
              "25%      29.000000\n",
              "50%      36.000000\n",
              "75%      38.000000\n",
              "max      43.000000"
            ]
          },
          "metadata": {
            "tags": []
          },
          "execution_count": 37
        }
      ]
    },
    {
      "cell_type": "markdown",
      "metadata": {
        "id": "wk_qZGKU3b1g"
      },
      "source": [
        "Using data.describe(), \r\n",
        "we got total row count: 6999\r\n",
        "mean = 34.150450\r\n",
        "standard_deviation: 4.828534\r\n",
        "min value = 21\r\n",
        "25% = 29.0\r\n",
        "50% = 36.000\r\n",
        "75% = 38.000\r\n",
        "maximum value = 43.000000"
      ]
    },
    {
      "cell_type": "code",
      "metadata": {
        "colab": {
          "base_uri": "https://localhost:8080/",
          "height": 195
        },
        "id": "6tZz970h4EV3",
        "outputId": "94fc1d0a-1d42-4d57-93b4-6517febdf104"
      },
      "source": [
        "df = data.drop(['id','room_id/id'],axis=1)\r\n",
        "df.head()"
      ],
      "execution_count": 38,
      "outputs": [
        {
          "output_type": "execute_result",
          "data": {
            "text/html": [
              "<div>\n",
              "<style scoped>\n",
              "    .dataframe tbody tr th:only-of-type {\n",
              "        vertical-align: middle;\n",
              "    }\n",
              "\n",
              "    .dataframe tbody tr th {\n",
              "        vertical-align: top;\n",
              "    }\n",
              "\n",
              "    .dataframe thead th {\n",
              "        text-align: right;\n",
              "    }\n",
              "</style>\n",
              "<table border=\"1\" class=\"dataframe\">\n",
              "  <thead>\n",
              "    <tr style=\"text-align: right;\">\n",
              "      <th></th>\n",
              "      <th>noted_date</th>\n",
              "      <th>temp</th>\n",
              "      <th>out/in</th>\n",
              "    </tr>\n",
              "  </thead>\n",
              "  <tbody>\n",
              "    <tr>\n",
              "      <th>0</th>\n",
              "      <td>12/8/2018 9:30</td>\n",
              "      <td>29</td>\n",
              "      <td>In</td>\n",
              "    </tr>\n",
              "    <tr>\n",
              "      <th>1</th>\n",
              "      <td>12/8/2018 9:30</td>\n",
              "      <td>29</td>\n",
              "      <td>In</td>\n",
              "    </tr>\n",
              "    <tr>\n",
              "      <th>2</th>\n",
              "      <td>12/8/2018 9:29</td>\n",
              "      <td>41</td>\n",
              "      <td>Out</td>\n",
              "    </tr>\n",
              "    <tr>\n",
              "      <th>3</th>\n",
              "      <td>12/8/2018 9:29</td>\n",
              "      <td>41</td>\n",
              "      <td>Out</td>\n",
              "    </tr>\n",
              "    <tr>\n",
              "      <th>4</th>\n",
              "      <td>12/8/2018 9:29</td>\n",
              "      <td>31</td>\n",
              "      <td>In</td>\n",
              "    </tr>\n",
              "  </tbody>\n",
              "</table>\n",
              "</div>"
            ],
            "text/plain": [
              "       noted_date  temp out/in\n",
              "0  12/8/2018 9:30    29     In\n",
              "1  12/8/2018 9:30    29     In\n",
              "2  12/8/2018 9:29    41    Out\n",
              "3  12/8/2018 9:29    41    Out\n",
              "4  12/8/2018 9:29    31     In"
            ]
          },
          "metadata": {
            "tags": []
          },
          "execution_count": 38
        }
      ]
    },
    {
      "cell_type": "markdown",
      "metadata": {
        "id": "Ey0lLGDMDSVR"
      },
      "source": [
        "**We check for missing value**"
      ]
    },
    {
      "cell_type": "code",
      "metadata": {
        "colab": {
          "base_uri": "https://localhost:8080/"
        },
        "id": "pEnCZMHLDGz-",
        "outputId": "74a008f0-56c1-4b7a-85a3-2c428e785f13"
      },
      "source": [
        "data.isnull().sum()"
      ],
      "execution_count": 39,
      "outputs": [
        {
          "output_type": "execute_result",
          "data": {
            "text/plain": [
              "id            0\n",
              "room_id/id    0\n",
              "noted_date    0\n",
              "temp          0\n",
              "out/in        0\n",
              "dtype: int64"
            ]
          },
          "metadata": {
            "tags": []
          },
          "execution_count": 39
        }
      ]
    },
    {
      "cell_type": "markdown",
      "metadata": {
        "id": "4qWTHUNxEOPu"
      },
      "source": [
        "We did not find any null value"
      ]
    },
    {
      "cell_type": "markdown",
      "metadata": {
        "id": "5kXnXD_iEbmi"
      },
      "source": [
        "**Separate date and time**"
      ]
    },
    {
      "cell_type": "code",
      "metadata": {
        "colab": {
          "base_uri": "https://localhost:8080/",
          "height": 195
        },
        "id": "xUE30kSLDbW8",
        "outputId": "9be72cca-5d10-4ab6-857f-0b101194481f"
      },
      "source": [
        "date = [] # date list is declared\r\n",
        "time = [] # time list is declared\r\n",
        "\r\n",
        "for i in df['noted_date']:\r\n",
        "  #print(i)\r\n",
        "  date.append(i.split(' ')[0])\r\n",
        "  time.append(i.split(' ')[1])\r\n",
        "df['date'] = date\r\n",
        "df['time'] = time\r\n",
        "df.head()\r\n"
      ],
      "execution_count": 45,
      "outputs": [
        {
          "output_type": "execute_result",
          "data": {
            "text/html": [
              "<div>\n",
              "<style scoped>\n",
              "    .dataframe tbody tr th:only-of-type {\n",
              "        vertical-align: middle;\n",
              "    }\n",
              "\n",
              "    .dataframe tbody tr th {\n",
              "        vertical-align: top;\n",
              "    }\n",
              "\n",
              "    .dataframe thead th {\n",
              "        text-align: right;\n",
              "    }\n",
              "</style>\n",
              "<table border=\"1\" class=\"dataframe\">\n",
              "  <thead>\n",
              "    <tr style=\"text-align: right;\">\n",
              "      <th></th>\n",
              "      <th>noted_date</th>\n",
              "      <th>temp</th>\n",
              "      <th>out/in</th>\n",
              "      <th>date</th>\n",
              "      <th>time</th>\n",
              "    </tr>\n",
              "  </thead>\n",
              "  <tbody>\n",
              "    <tr>\n",
              "      <th>0</th>\n",
              "      <td>12/8/2018 9:30</td>\n",
              "      <td>29</td>\n",
              "      <td>In</td>\n",
              "      <td>12/8/2018</td>\n",
              "      <td>9:30</td>\n",
              "    </tr>\n",
              "    <tr>\n",
              "      <th>1</th>\n",
              "      <td>12/8/2018 9:30</td>\n",
              "      <td>29</td>\n",
              "      <td>In</td>\n",
              "      <td>12/8/2018</td>\n",
              "      <td>9:30</td>\n",
              "    </tr>\n",
              "    <tr>\n",
              "      <th>2</th>\n",
              "      <td>12/8/2018 9:29</td>\n",
              "      <td>41</td>\n",
              "      <td>Out</td>\n",
              "      <td>12/8/2018</td>\n",
              "      <td>9:29</td>\n",
              "    </tr>\n",
              "    <tr>\n",
              "      <th>3</th>\n",
              "      <td>12/8/2018 9:29</td>\n",
              "      <td>41</td>\n",
              "      <td>Out</td>\n",
              "      <td>12/8/2018</td>\n",
              "      <td>9:29</td>\n",
              "    </tr>\n",
              "    <tr>\n",
              "      <th>4</th>\n",
              "      <td>12/8/2018 9:29</td>\n",
              "      <td>31</td>\n",
              "      <td>In</td>\n",
              "      <td>12/8/2018</td>\n",
              "      <td>9:29</td>\n",
              "    </tr>\n",
              "  </tbody>\n",
              "</table>\n",
              "</div>"
            ],
            "text/plain": [
              "       noted_date  temp out/in       date  time\n",
              "0  12/8/2018 9:30    29     In  12/8/2018  9:30\n",
              "1  12/8/2018 9:30    29     In  12/8/2018  9:30\n",
              "2  12/8/2018 9:29    41    Out  12/8/2018  9:29\n",
              "3  12/8/2018 9:29    41    Out  12/8/2018  9:29\n",
              "4  12/8/2018 9:29    31     In  12/8/2018  9:29"
            ]
          },
          "metadata": {
            "tags": []
          },
          "execution_count": 45
        }
      ]
    },
    {
      "cell_type": "markdown",
      "metadata": {
        "id": "Q-mssYVLGBFq"
      },
      "source": [
        "**Observation : Need to drop the noted_date column parmanently**"
      ]
    },
    {
      "cell_type": "code",
      "metadata": {
        "colab": {
          "base_uri": "https://localhost:8080/",
          "height": 195
        },
        "id": "JjKD7ICqF_kp",
        "outputId": "0ee79f18-2b8b-404c-a1ed-11717ff47413"
      },
      "source": [
        "df.drop(['noted_date'],axis=1,inplace=True)\r\n",
        "df.head()"
      ],
      "execution_count": 46,
      "outputs": [
        {
          "output_type": "execute_result",
          "data": {
            "text/html": [
              "<div>\n",
              "<style scoped>\n",
              "    .dataframe tbody tr th:only-of-type {\n",
              "        vertical-align: middle;\n",
              "    }\n",
              "\n",
              "    .dataframe tbody tr th {\n",
              "        vertical-align: top;\n",
              "    }\n",
              "\n",
              "    .dataframe thead th {\n",
              "        text-align: right;\n",
              "    }\n",
              "</style>\n",
              "<table border=\"1\" class=\"dataframe\">\n",
              "  <thead>\n",
              "    <tr style=\"text-align: right;\">\n",
              "      <th></th>\n",
              "      <th>temp</th>\n",
              "      <th>out/in</th>\n",
              "      <th>date</th>\n",
              "      <th>time</th>\n",
              "    </tr>\n",
              "  </thead>\n",
              "  <tbody>\n",
              "    <tr>\n",
              "      <th>0</th>\n",
              "      <td>29</td>\n",
              "      <td>In</td>\n",
              "      <td>12/8/2018</td>\n",
              "      <td>9:30</td>\n",
              "    </tr>\n",
              "    <tr>\n",
              "      <th>1</th>\n",
              "      <td>29</td>\n",
              "      <td>In</td>\n",
              "      <td>12/8/2018</td>\n",
              "      <td>9:30</td>\n",
              "    </tr>\n",
              "    <tr>\n",
              "      <th>2</th>\n",
              "      <td>41</td>\n",
              "      <td>Out</td>\n",
              "      <td>12/8/2018</td>\n",
              "      <td>9:29</td>\n",
              "    </tr>\n",
              "    <tr>\n",
              "      <th>3</th>\n",
              "      <td>41</td>\n",
              "      <td>Out</td>\n",
              "      <td>12/8/2018</td>\n",
              "      <td>9:29</td>\n",
              "    </tr>\n",
              "    <tr>\n",
              "      <th>4</th>\n",
              "      <td>31</td>\n",
              "      <td>In</td>\n",
              "      <td>12/8/2018</td>\n",
              "      <td>9:29</td>\n",
              "    </tr>\n",
              "  </tbody>\n",
              "</table>\n",
              "</div>"
            ],
            "text/plain": [
              "   temp out/in       date  time\n",
              "0    29     In  12/8/2018  9:30\n",
              "1    29     In  12/8/2018  9:30\n",
              "2    41    Out  12/8/2018  9:29\n",
              "3    41    Out  12/8/2018  9:29\n",
              "4    31     In  12/8/2018  9:29"
            ]
          },
          "metadata": {
            "tags": []
          },
          "execution_count": 46
        }
      ]
    },
    {
      "cell_type": "markdown",
      "metadata": {
        "id": "PjVjtYM6GVBf"
      },
      "source": [
        "**Observation :We have splitted the date and time in new different columns(date and time) for simplicity**"
      ]
    },
    {
      "cell_type": "markdown",
      "metadata": {
        "id": "76_HQnBaHFoa"
      },
      "source": [
        "**Let's separate the date in day,month and year**"
      ]
    },
    {
      "cell_type": "code",
      "metadata": {
        "id": "V-qhvDtvGiov"
      },
      "source": [
        "try:\r\n",
        "  df['date'] = pd.to_datetime(df['date'])# converted date into standard format year-month-daye.\r\n",
        "  df['year'] = df.date.dt.year\r\n",
        "  df['month'] = df.date.dt.month\r\n",
        "  df['day'] = df.date.dt.day\r\n",
        "except:\r\n",
        "  print(\"Operations already performed\")  \r\n",
        "#print(df['date'])"
      ],
      "execution_count": 48,
      "outputs": []
    },
    {
      "cell_type": "code",
      "metadata": {
        "colab": {
          "base_uri": "https://localhost:8080/",
          "height": 195
        },
        "id": "0wCkHJ94Jbfj",
        "outputId": "ef9023a2-6803-41ce-df9e-8e368415c096"
      },
      "source": [
        "df.head()"
      ],
      "execution_count": 49,
      "outputs": [
        {
          "output_type": "execute_result",
          "data": {
            "text/html": [
              "<div>\n",
              "<style scoped>\n",
              "    .dataframe tbody tr th:only-of-type {\n",
              "        vertical-align: middle;\n",
              "    }\n",
              "\n",
              "    .dataframe tbody tr th {\n",
              "        vertical-align: top;\n",
              "    }\n",
              "\n",
              "    .dataframe thead th {\n",
              "        text-align: right;\n",
              "    }\n",
              "</style>\n",
              "<table border=\"1\" class=\"dataframe\">\n",
              "  <thead>\n",
              "    <tr style=\"text-align: right;\">\n",
              "      <th></th>\n",
              "      <th>temp</th>\n",
              "      <th>out/in</th>\n",
              "      <th>date</th>\n",
              "      <th>time</th>\n",
              "      <th>year</th>\n",
              "      <th>month</th>\n",
              "      <th>day</th>\n",
              "    </tr>\n",
              "  </thead>\n",
              "  <tbody>\n",
              "    <tr>\n",
              "      <th>0</th>\n",
              "      <td>29</td>\n",
              "      <td>In</td>\n",
              "      <td>2018-12-08</td>\n",
              "      <td>9:30</td>\n",
              "      <td>2018</td>\n",
              "      <td>12</td>\n",
              "      <td>8</td>\n",
              "    </tr>\n",
              "    <tr>\n",
              "      <th>1</th>\n",
              "      <td>29</td>\n",
              "      <td>In</td>\n",
              "      <td>2018-12-08</td>\n",
              "      <td>9:30</td>\n",
              "      <td>2018</td>\n",
              "      <td>12</td>\n",
              "      <td>8</td>\n",
              "    </tr>\n",
              "    <tr>\n",
              "      <th>2</th>\n",
              "      <td>41</td>\n",
              "      <td>Out</td>\n",
              "      <td>2018-12-08</td>\n",
              "      <td>9:29</td>\n",
              "      <td>2018</td>\n",
              "      <td>12</td>\n",
              "      <td>8</td>\n",
              "    </tr>\n",
              "    <tr>\n",
              "      <th>3</th>\n",
              "      <td>41</td>\n",
              "      <td>Out</td>\n",
              "      <td>2018-12-08</td>\n",
              "      <td>9:29</td>\n",
              "      <td>2018</td>\n",
              "      <td>12</td>\n",
              "      <td>8</td>\n",
              "    </tr>\n",
              "    <tr>\n",
              "      <th>4</th>\n",
              "      <td>31</td>\n",
              "      <td>In</td>\n",
              "      <td>2018-12-08</td>\n",
              "      <td>9:29</td>\n",
              "      <td>2018</td>\n",
              "      <td>12</td>\n",
              "      <td>8</td>\n",
              "    </tr>\n",
              "  </tbody>\n",
              "</table>\n",
              "</div>"
            ],
            "text/plain": [
              "   temp out/in       date  time  year  month  day\n",
              "0    29     In 2018-12-08  9:30  2018     12    8\n",
              "1    29     In 2018-12-08  9:30  2018     12    8\n",
              "2    41    Out 2018-12-08  9:29  2018     12    8\n",
              "3    41    Out 2018-12-08  9:29  2018     12    8\n",
              "4    31     In 2018-12-08  9:29  2018     12    8"
            ]
          },
          "metadata": {
            "tags": []
          },
          "execution_count": 49
        }
      ]
    },
    {
      "cell_type": "markdown",
      "metadata": {
        "id": "kQGVzU04JkAt"
      },
      "source": [
        "**Let's drop date column**"
      ]
    },
    {
      "cell_type": "code",
      "metadata": {
        "colab": {
          "base_uri": "https://localhost:8080/",
          "height": 195
        },
        "id": "C1Ucw8wtJiYh",
        "outputId": "42a8a53f-f827-410f-8e2a-b3adbc2f9fa5"
      },
      "source": [
        "df.drop(['date'],axis=1,inplace=True)\r\n",
        "df.head()"
      ],
      "execution_count": 50,
      "outputs": [
        {
          "output_type": "execute_result",
          "data": {
            "text/html": [
              "<div>\n",
              "<style scoped>\n",
              "    .dataframe tbody tr th:only-of-type {\n",
              "        vertical-align: middle;\n",
              "    }\n",
              "\n",
              "    .dataframe tbody tr th {\n",
              "        vertical-align: top;\n",
              "    }\n",
              "\n",
              "    .dataframe thead th {\n",
              "        text-align: right;\n",
              "    }\n",
              "</style>\n",
              "<table border=\"1\" class=\"dataframe\">\n",
              "  <thead>\n",
              "    <tr style=\"text-align: right;\">\n",
              "      <th></th>\n",
              "      <th>temp</th>\n",
              "      <th>out/in</th>\n",
              "      <th>time</th>\n",
              "      <th>year</th>\n",
              "      <th>month</th>\n",
              "      <th>day</th>\n",
              "    </tr>\n",
              "  </thead>\n",
              "  <tbody>\n",
              "    <tr>\n",
              "      <th>0</th>\n",
              "      <td>29</td>\n",
              "      <td>In</td>\n",
              "      <td>9:30</td>\n",
              "      <td>2018</td>\n",
              "      <td>12</td>\n",
              "      <td>8</td>\n",
              "    </tr>\n",
              "    <tr>\n",
              "      <th>1</th>\n",
              "      <td>29</td>\n",
              "      <td>In</td>\n",
              "      <td>9:30</td>\n",
              "      <td>2018</td>\n",
              "      <td>12</td>\n",
              "      <td>8</td>\n",
              "    </tr>\n",
              "    <tr>\n",
              "      <th>2</th>\n",
              "      <td>41</td>\n",
              "      <td>Out</td>\n",
              "      <td>9:29</td>\n",
              "      <td>2018</td>\n",
              "      <td>12</td>\n",
              "      <td>8</td>\n",
              "    </tr>\n",
              "    <tr>\n",
              "      <th>3</th>\n",
              "      <td>41</td>\n",
              "      <td>Out</td>\n",
              "      <td>9:29</td>\n",
              "      <td>2018</td>\n",
              "      <td>12</td>\n",
              "      <td>8</td>\n",
              "    </tr>\n",
              "    <tr>\n",
              "      <th>4</th>\n",
              "      <td>31</td>\n",
              "      <td>In</td>\n",
              "      <td>9:29</td>\n",
              "      <td>2018</td>\n",
              "      <td>12</td>\n",
              "      <td>8</td>\n",
              "    </tr>\n",
              "  </tbody>\n",
              "</table>\n",
              "</div>"
            ],
            "text/plain": [
              "   temp out/in  time  year  month  day\n",
              "0    29     In  9:30  2018     12    8\n",
              "1    29     In  9:30  2018     12    8\n",
              "2    41    Out  9:29  2018     12    8\n",
              "3    41    Out  9:29  2018     12    8\n",
              "4    31     In  9:29  2018     12    8"
            ]
          },
          "metadata": {
            "tags": []
          },
          "execution_count": 50
        }
      ]
    },
    {
      "cell_type": "markdown",
      "metadata": {
        "id": "LXux0V5iKzrx"
      },
      "source": [
        "**let's sort the year,month and day** *italicized text*"
      ]
    },
    {
      "cell_type": "code",
      "metadata": {
        "colab": {
          "base_uri": "https://localhost:8080/"
        },
        "id": "acGZAhCuKIuQ",
        "outputId": "616154ee-7ed0-49a4-9647-7f4bed5690b8"
      },
      "source": [
        "print(\"Days of observation:\",sorted(df['day'].unique()))\r\n",
        "print(\"Months of observation:\",sorted(df['month'].unique()))\r\n",
        "print(\"Years of observation:\",sorted(df['year'].unique()))"
      ],
      "execution_count": 51,
      "outputs": [
        {
          "output_type": "stream",
          "text": [
            "Days of observation: [1, 2, 3, 4, 5, 6, 7, 8]\n",
            "Months of observation: [12]\n",
            "Years of observation: [2018]\n"
          ],
          "name": "stdout"
        }
      ]
    },
    {
      "cell_type": "code",
      "metadata": {
        "colab": {
          "base_uri": "https://localhost:8080/",
          "height": 195
        },
        "id": "z5RI5gNdLnhm",
        "outputId": "1c277ffb-0b50-406e-c805-be7b4c14dc92"
      },
      "source": [
        "df.head()"
      ],
      "execution_count": 52,
      "outputs": [
        {
          "output_type": "execute_result",
          "data": {
            "text/html": [
              "<div>\n",
              "<style scoped>\n",
              "    .dataframe tbody tr th:only-of-type {\n",
              "        vertical-align: middle;\n",
              "    }\n",
              "\n",
              "    .dataframe tbody tr th {\n",
              "        vertical-align: top;\n",
              "    }\n",
              "\n",
              "    .dataframe thead th {\n",
              "        text-align: right;\n",
              "    }\n",
              "</style>\n",
              "<table border=\"1\" class=\"dataframe\">\n",
              "  <thead>\n",
              "    <tr style=\"text-align: right;\">\n",
              "      <th></th>\n",
              "      <th>temp</th>\n",
              "      <th>out/in</th>\n",
              "      <th>time</th>\n",
              "      <th>year</th>\n",
              "      <th>month</th>\n",
              "      <th>day</th>\n",
              "    </tr>\n",
              "  </thead>\n",
              "  <tbody>\n",
              "    <tr>\n",
              "      <th>0</th>\n",
              "      <td>29</td>\n",
              "      <td>In</td>\n",
              "      <td>9:30</td>\n",
              "      <td>2018</td>\n",
              "      <td>12</td>\n",
              "      <td>8</td>\n",
              "    </tr>\n",
              "    <tr>\n",
              "      <th>1</th>\n",
              "      <td>29</td>\n",
              "      <td>In</td>\n",
              "      <td>9:30</td>\n",
              "      <td>2018</td>\n",
              "      <td>12</td>\n",
              "      <td>8</td>\n",
              "    </tr>\n",
              "    <tr>\n",
              "      <th>2</th>\n",
              "      <td>41</td>\n",
              "      <td>Out</td>\n",
              "      <td>9:29</td>\n",
              "      <td>2018</td>\n",
              "      <td>12</td>\n",
              "      <td>8</td>\n",
              "    </tr>\n",
              "    <tr>\n",
              "      <th>3</th>\n",
              "      <td>41</td>\n",
              "      <td>Out</td>\n",
              "      <td>9:29</td>\n",
              "      <td>2018</td>\n",
              "      <td>12</td>\n",
              "      <td>8</td>\n",
              "    </tr>\n",
              "    <tr>\n",
              "      <th>4</th>\n",
              "      <td>31</td>\n",
              "      <td>In</td>\n",
              "      <td>9:29</td>\n",
              "      <td>2018</td>\n",
              "      <td>12</td>\n",
              "      <td>8</td>\n",
              "    </tr>\n",
              "  </tbody>\n",
              "</table>\n",
              "</div>"
            ],
            "text/plain": [
              "   temp out/in  time  year  month  day\n",
              "0    29     In  9:30  2018     12    8\n",
              "1    29     In  9:30  2018     12    8\n",
              "2    41    Out  9:29  2018     12    8\n",
              "3    41    Out  9:29  2018     12    8\n",
              "4    31     In  9:29  2018     12    8"
            ]
          },
          "metadata": {
            "tags": []
          },
          "execution_count": 52
        }
      ]
    },
    {
      "cell_type": "markdown",
      "metadata": {
        "id": "kIjrogNlLzpq"
      },
      "source": [
        "**Let's reassemble the new dataframe**"
      ]
    },
    {
      "cell_type": "code",
      "metadata": {
        "colab": {
          "base_uri": "https://localhost:8080/",
          "height": 195
        },
        "id": "8ev4ujFTMCvf",
        "outputId": "86a83f59-efdc-44b8-d658-6cb7b508b612"
      },
      "source": [
        "df = df[['day','month','year','time','out/in','temp']]\r\n",
        "df.head()"
      ],
      "execution_count": 53,
      "outputs": [
        {
          "output_type": "execute_result",
          "data": {
            "text/html": [
              "<div>\n",
              "<style scoped>\n",
              "    .dataframe tbody tr th:only-of-type {\n",
              "        vertical-align: middle;\n",
              "    }\n",
              "\n",
              "    .dataframe tbody tr th {\n",
              "        vertical-align: top;\n",
              "    }\n",
              "\n",
              "    .dataframe thead th {\n",
              "        text-align: right;\n",
              "    }\n",
              "</style>\n",
              "<table border=\"1\" class=\"dataframe\">\n",
              "  <thead>\n",
              "    <tr style=\"text-align: right;\">\n",
              "      <th></th>\n",
              "      <th>day</th>\n",
              "      <th>month</th>\n",
              "      <th>year</th>\n",
              "      <th>time</th>\n",
              "      <th>out/in</th>\n",
              "      <th>temp</th>\n",
              "    </tr>\n",
              "  </thead>\n",
              "  <tbody>\n",
              "    <tr>\n",
              "      <th>0</th>\n",
              "      <td>8</td>\n",
              "      <td>12</td>\n",
              "      <td>2018</td>\n",
              "      <td>9:30</td>\n",
              "      <td>In</td>\n",
              "      <td>29</td>\n",
              "    </tr>\n",
              "    <tr>\n",
              "      <th>1</th>\n",
              "      <td>8</td>\n",
              "      <td>12</td>\n",
              "      <td>2018</td>\n",
              "      <td>9:30</td>\n",
              "      <td>In</td>\n",
              "      <td>29</td>\n",
              "    </tr>\n",
              "    <tr>\n",
              "      <th>2</th>\n",
              "      <td>8</td>\n",
              "      <td>12</td>\n",
              "      <td>2018</td>\n",
              "      <td>9:29</td>\n",
              "      <td>Out</td>\n",
              "      <td>41</td>\n",
              "    </tr>\n",
              "    <tr>\n",
              "      <th>3</th>\n",
              "      <td>8</td>\n",
              "      <td>12</td>\n",
              "      <td>2018</td>\n",
              "      <td>9:29</td>\n",
              "      <td>Out</td>\n",
              "      <td>41</td>\n",
              "    </tr>\n",
              "    <tr>\n",
              "      <th>4</th>\n",
              "      <td>8</td>\n",
              "      <td>12</td>\n",
              "      <td>2018</td>\n",
              "      <td>9:29</td>\n",
              "      <td>In</td>\n",
              "      <td>31</td>\n",
              "    </tr>\n",
              "  </tbody>\n",
              "</table>\n",
              "</div>"
            ],
            "text/plain": [
              "   day  month  year  time out/in  temp\n",
              "0    8     12  2018  9:30     In    29\n",
              "1    8     12  2018  9:30     In    29\n",
              "2    8     12  2018  9:29    Out    41\n",
              "3    8     12  2018  9:29    Out    41\n",
              "4    8     12  2018  9:29     In    31"
            ]
          },
          "metadata": {
            "tags": []
          },
          "execution_count": 53
        }
      ]
    },
    {
      "cell_type": "code",
      "metadata": {
        "colab": {
          "base_uri": "https://localhost:8080/",
          "height": 297
        },
        "id": "0NYxyXWEs69n",
        "outputId": "def9ca2c-55b7-4cd7-a897-a62266d608c3"
      },
      "source": [
        "sns.countplot(df['out/in'])"
      ],
      "execution_count": 73,
      "outputs": [
        {
          "output_type": "execute_result",
          "data": {
            "text/plain": [
              "<matplotlib.axes._subplots.AxesSubplot at 0x7f2166768940>"
            ]
          },
          "metadata": {
            "tags": []
          },
          "execution_count": 73
        },
        {
          "output_type": "display_data",
          "data": {
            "image/png": "[encoded data removed]",
            "text/plain": [
              "<Figure size 432x288 with 1 Axes>"
            ]
          },
          "metadata": {
            "tags": []
          }
        }
      ]
    },
    {
      "cell_type": "code",
      "metadata": {
        "colab": {
          "base_uri": "https://localhost:8080/",
          "height": 297
        },
        "id": "UO7rHC8ZtB4N",
        "outputId": "0406e989-a78c-42f3-9387-c4603771f94a"
      },
      "source": [
        "sns.barplot(df['out/in'],df['temp'])"
      ],
      "execution_count": 74,
      "outputs": [
        {
          "output_type": "execute_result",
          "data": {
            "text/plain": [
              "<matplotlib.axes._subplots.AxesSubplot at 0x7f2166cdd048>"
            ]
          },
          "metadata": {
            "tags": []
          },
          "execution_count": 74
        },
        {
          "output_type": "display_data",
          "data": {
            "image/png": "[encoded data removed]",
            "text/plain": [
              "<Figure size 432x288 with 1 Axes>"
            ]
          },
          "metadata": {
            "tags": []
          }
        }
      ]
    },
    {
      "cell_type": "code",
      "metadata": {
        "colab": {
          "base_uri": "https://localhost:8080/",
          "height": 295
        },
        "id": "MYCXprGyMskZ",
        "outputId": "4ad57014-f2eb-4156-a886-9ecb614c69ee"
      },
      "source": [
        "df.plot(kind = \"scatter\",x = \"day\",y = \"temp\")\r\n",
        "plt.xlabel(\"days\")\r\n",
        "plt.ylabel(\"temp\")\r\n",
        "plt.title(\"2D scatter plot using scatter graph\")\r\n",
        "plt.grid()\r\n",
        "plt.show()"
      ],
      "execution_count": 54,
      "outputs": [
        {
          "output_type": "display_data",
          "data": {
            "image/png": "[encoded data removed]",
            "text/plain": [
              "<Figure size 432x288 with 1 Axes>"
            ]
          },
          "metadata": {
            "tags": []
          }
        }
      ]
    },
    {
      "cell_type": "markdown",
      "metadata": {
        "id": "t6geLNuENg_e"
      },
      "source": [
        "**Observation: We use the scatter plot to plot the days on x-axis and temprature on y-axis. We use the matplotlib library which provides the function grid() and show(). Using those function,we plot the data into grid and also display it on console. Scatter plot shows the data as same color.We are unable to distinguish In and Out. So we use seaborn to visiualize the data in well form and make us to identify the data easily.**"
      ]
    },
    {
      "cell_type": "code",
      "metadata": {
        "colab": {
          "base_uri": "https://localhost:8080/",
          "height": 529
        },
        "id": "XLjSM1bqOvE_",
        "outputId": "00544097-b57f-418d-cb80-15183b465ca5"
      },
      "source": [
        "sns.set_style(\"whitegrid\")\r\n",
        "sns.FacetGrid(df,hue=\"out/in\",height=7)\\\r\n",
        "   .map(plt.scatter,\"day\",\"temp\")\\\r\n",
        "   .add_legend()\r\n",
        "plt.xlabel(\"Days\")\r\n",
        "plt.ylabel(\"temp\")\r\n",
        "plt.title(\"2D scatter plot using seaborn FacetGrid function\")\r\n",
        "plt.show()   "
      ],
      "execution_count": 55,
      "outputs": [
        {
          "output_type": "display_data",
          "data": {
            "image/png": "[encoded data removed]",
            "text/plain": [
              "<Figure size 558x504 with 1 Axes>"
            ]
          },
          "metadata": {
            "tags": []
          }
        }
      ]
    },
    {
      "cell_type": "markdown",
      "metadata": {
        "id": "O6cPgcTmPyr3"
      },
      "source": [
        "**Observation: We use seaborn library function FacetGrid(which plot multigrid object) show the difference between In and Out temprature. We can distingish the orange and blue color. Hence the blue color represents temprature by installed device inside room and orange color represents tempratrue by installed device outside room**"
      ]
    },
    {
      "cell_type": "markdown",
      "metadata": {
        "id": "AdwjU3CxR799"
      },
      "source": [
        "**Similarly, we visualize the temprature on behalf of month and year**"
      ]
    },
    {
      "cell_type": "code",
      "metadata": {
        "colab": {
          "base_uri": "https://localhost:8080/",
          "height": 529
        },
        "id": "huSWTlk3Rv8n",
        "outputId": "70c27bf7-b920-4f7f-9f66-f0f4e4cb9d4a"
      },
      "source": [
        "sns.set_style(\"whitegrid\")\r\n",
        "sns.FacetGrid(df,hue=\"out/in\",height=7)\\\r\n",
        "   .map(plt.scatter,\"month\",\"temp\")\\\r\n",
        "   .add_legend()\r\n",
        "plt.xlabel(\"Months\")\r\n",
        "plt.ylabel(\"temp\")\r\n",
        "plt.title(\"2D scatter plot using seaborn FacetGrid function\")\r\n",
        "plt.show()  "
      ],
      "execution_count": 56,
      "outputs": [
        {
          "output_type": "display_data",
          "data": {
            "image/png": "[encoded data removed]",
            "text/plain": [
              "<Figure size 558x504 with 1 Axes>"
            ]
          },
          "metadata": {
            "tags": []
          }
        }
      ]
    },
    {
      "cell_type": "markdown",
      "metadata": {
        "id": "As6UFLzvSVAp"
      },
      "source": [
        "**Let's visualize the temprature on behalf on years**"
      ]
    },
    {
      "cell_type": "code",
      "metadata": {
        "colab": {
          "base_uri": "https://localhost:8080/",
          "height": 513
        },
        "id": "thRb3VEMTtf1",
        "outputId": "bfdf71b5-698f-4a92-96be-9616b7c34ae0"
      },
      "source": [
        "sns.set_style(\"whitegrid\")\r\n",
        "sns.FacetGrid(df,hue=\"out/in\",height=7)\\\r\n",
        "   .map(plt.scatter,\"year\",\"temp\")\\\r\n",
        "   .add_legend()\r\n",
        "plt.xlabel(\"Years\")\r\n",
        "plt.ylabel(\"temp\")\r\n",
        "plt.show()   "
      ],
      "execution_count": 57,
      "outputs": [
        {
          "output_type": "display_data",
          "data": {
            "image/png": "[encoded data removed]",
            "text/plain": [
              "<Figure size 558x504 with 1 Axes>"
            ]
          },
          "metadata": {
            "tags": []
          }
        }
      ]
    },
    {
      "cell_type": "markdown",
      "metadata": {
        "id": "kJBvoWfHUy1q"
      },
      "source": [
        "**Let's use pairplot**"
      ]
    },
    {
      "cell_type": "code",
      "metadata": {
        "colab": {
          "base_uri": "https://localhost:8080/",
          "height": 1000
        },
        "id": "Q-xmZ_xgUdMl",
        "outputId": "4e81c994-2e27-4c7b-bfaa-5ae1301c49c6"
      },
      "source": [
        "import warnings\r\n",
        "warnings.filterwarnings(\"ignore\")\r\n",
        "sns.set_style(\"whitegrid\")\r\n",
        "g = sns.pairplot(df,hue=\"out/in\",height=4,vars=['day','month','year','temp'])\r\n",
        "plt.suptitle(\"pair plot\")\r\n",
        "xlabel,ylabel = [],[]\r\n",
        "for ax in g.axes[-1,:]:\r\n",
        "  xlabels = ax.xaxis.get_label_text()\r\n",
        "  xlabel.append(xlabels)\r\n",
        "for ax in g.axes[:0]:\r\n",
        "  ylabels = ax.yaxis.get_label_text()\r\n",
        "  ylabel.append(ylabels)  \r\n",
        "\r\n",
        "for i in range(len(xlabel)):\r\n",
        "  for j in range(len(ylabel)):\r\n",
        "    g.axes[j,i].xaxis.set_label_text(xlabel[i])\r\n",
        "    g.axes[j,i].yaxis.set_label_text(ylabel[j])\r\n",
        "\r\n",
        "\r\n",
        "plt.show()\r\n"
      ],
      "execution_count": 59,
      "outputs": [
        {
          "output_type": "display_data",
          "data": {
            "image/png": "[encoded data removed]",
            "text/plain": [
              "<Figure size 1206x1152 with 20 Axes>"
            ]
          },
          "metadata": {
            "tags": []
          }
        }
      ]
    },
    {
      "cell_type": "markdown",
      "metadata": {
        "id": "xRmpQWv4aIVA"
      },
      "source": [
        "When we seems that we can not plot 4D scatter so we used pairplot which visualize the data in 2D spaces"
      ]
    },
    {
      "cell_type": "markdown",
      "metadata": {
        "id": "hC6bCRLStKA4"
      },
      "source": [
        "**Univariate Data Analysis**"
      ]
    },
    {
      "cell_type": "code",
      "metadata": {
        "colab": {
          "base_uri": "https://localhost:8080/",
          "height": 295
        },
        "id": "stgpwAKFauKw",
        "outputId": "d341e8ed-9ee4-44c0-e4bc-b1d2a100f974"
      },
      "source": [
        "df_in = df.loc[df[\"out/in\"]=='In']\r\n",
        "df_out = df.loc[df[\"out/in\"]=='Out']\r\n",
        "plt.plot(df_in[\"temp\"],np.zeros_like(df_in[\"temp\"]),'o',label = \"In\")\r\n",
        "plt.plot(df_out[\"temp\"],np.zeros_like(df_out[\"temp\"]),'o',label = 'Out')\r\n",
        "plt.xlabel(\"temp\")\r\n",
        "plt.title(\"1-D scatter plot\")\r\n",
        "plt.legend()\r\n",
        "plt.show()"
      ],
      "execution_count": 64,
      "outputs": [
        {
          "output_type": "display_data",
          "data": {
            "image/png": "[encoded data removed]",
            "text/plain": [
              "<Figure size 432x288 with 1 Axes>"
            ]
          },
          "metadata": {
            "tags": []
          }
        }
      ]
    },
    {
      "cell_type": "code",
      "metadata": {
        "colab": {
          "base_uri": "https://localhost:8080/",
          "height": 457
        },
        "id": "xbXB5nG3jIt1",
        "outputId": "b0f7c5c3-0169-4257-e77a-c4acdc08e178"
      },
      "source": [
        "#PDF\r\n",
        "\r\n",
        "import warnings\r\n",
        "warnings.filterwarnings(\"ignore\")\r\n",
        "\r\n",
        "sns.FacetGrid(df,hue=\"out/in\",height=6)\\\r\n",
        "   .map(sns.distplot,'temp')\\\r\n",
        "   .add_legend()\r\n",
        "plt.title(\"plot using univariate temp\")\r\n",
        "plt.xlabel(\"temp\")\r\n",
        "plt.show()   "
      ],
      "execution_count": 66,
      "outputs": [
        {
          "output_type": "display_data",
          "data": {
            "image/png": "[encoded data removed]",
            "text/plain": [
              "<Figure size 486x432 with 1 Axes>"
            ]
          },
          "metadata": {
            "tags": []
          }
        }
      ]
    },
    {
      "cell_type": "markdown",
      "metadata": {
        "id": "L8KcDA1_luCa"
      },
      "source": [
        "**Range of temprature inside room between 20 to 32 and outside room is 23 to 44**\r\n",
        "\r\n"
      ]
    },
    {
      "cell_type": "code",
      "metadata": {
        "colab": {
          "base_uri": "https://localhost:8080/"
        },
        "id": "5ehUDqJmsb2Q",
        "outputId": "3ed4424e-32bf-4837-b3e7-a21c14ed58ff"
      },
      "source": [
        "import numpy as np\r\n",
        "print(\"means and std-dev for df_in\")\r\n",
        "print(np.mean(df_in['temp']))\r\n",
        "print(np.std(df_in['temp']))\r\n",
        "\r\n",
        "print(\"mean and std-dev for df_out\")\r\n",
        "print(np.mean(df_out['temp']))\r\n",
        "\r\n",
        "\r\n",
        "print(np.std(df_out['temp']))"
      ],
      "execution_count": 77,
      "outputs": [
        {
          "output_type": "stream",
          "text": [
            "means and std-dev for df_in\n",
            "28.4015397082658\n",
            "1.7639320565960288\n",
            "mean and std-dev for df_out\n",
            "37.28183623924079\n",
            "2.550790406471302\n"
          ],
          "name": "stdout"
        }
      ]
    },
    {
      "cell_type": "markdown",
      "metadata": {
        "id": "yvCJXp4TwOQ4"
      },
      "source": [
        "**Observation: The value of mean and std-dev for outside room temprature comparatively high than inside room temprature**"
      ]
    },
    {
      "cell_type": "markdown",
      "metadata": {
        "id": "LKN4G6b6zVd7"
      },
      "source": [
        "**Let's boxplot and whiskers**"
      ]
    },
    {
      "cell_type": "code",
      "metadata": {
        "colab": {
          "base_uri": "https://localhost:8080/",
          "height": 295
        },
        "id": "omux0G8ywwtR",
        "outputId": "f30600ad-f928-4602-8c6e-a7eb54b7abfe"
      },
      "source": [
        "sns.boxplot(x = \"out/in\",y=\"temp\",data = df,hue=\"out/in\")\r\n",
        "plt.title(\"boxplot and whiskers\")\r\n",
        "plt.xlabel(\"out/in\")\r\n",
        "plt.ylabel(\"temp\")\r\n",
        "plt.show()"
      ],
      "execution_count": 78,
      "outputs": [
        {
          "output_type": "display_data",
          "data": {
            "image/png": "[encoded data removed]",
            "text/plain": [
              "<Figure size 432x288 with 1 Axes>"
            ]
          },
          "metadata": {
            "tags": []
          }
        }
      ]
    },
    {
      "cell_type": "code",
      "metadata": {
        "colab": {
          "base_uri": "https://localhost:8080/",
          "height": 295
        },
        "id": "FLE5MUzH1jDK",
        "outputId": "757d2db6-f726-418d-ec95-966e663a7d0c"
      },
      "source": [
        "#Voilin plot\r\n",
        "\r\n",
        "sns.violinplot(x=\"out/in\",y=\"temp\",data=df,size=8,hue=\"out/in\")\r\n",
        "plt.title(\"Voilin Plot\")\r\n",
        "plt.xlabel(\"out/in\")\r\n",
        "plt.ylabel(\"temp\")\r\n",
        "plt.show()"
      ],
      "execution_count": 79,
      "outputs": [
        {
          "output_type": "display_data",
          "data": {
            "image/png": "[encoded data removed]",
            "text/plain": [
              "<Figure size 432x288 with 1 Axes>"
            ]
          },
          "metadata": {
            "tags": []
          }
        }
      ]
    }
  ]
}